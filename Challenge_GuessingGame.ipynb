{
 "cells": [
  {
   "cell_type": "code",
   "execution_count": 4,
   "metadata": {},
   "outputs": [],
   "source": []
  },
  {
   "cell_type": "code",
   "execution_count": null,
   "metadata": {},
   "outputs": [
    {
     "name": "stdout",
     "output_type": "stream",
     "text": [
      "enter the number:65\n",
      "cold\n",
      "enter the number:75\n",
      "colder\n",
      "enter the number:55\n",
      "colder\n",
      "enter the number:66\n",
      "colder\n"
     ]
    }
   ],
   "source": [
    "from random import randint\n",
    "n=randint(0,100)\n",
    "guesses=[0]\n",
    "#guess\n",
    "#m=int(input('enter the number:'))\n",
    "#guesses+=1\n",
    "while n!=m:\n",
    "    m=int(input('enter the number:'))\n",
    "    if m<1 or m>100:\n",
    "        print(\"out of bounds\")\n",
    "        continue\n",
    "    if(n==m):\n",
    "        print(\"you are right\")\n",
    "        break\n",
    "    guesses.append(m)\n",
    "    if guesses[-2]:\n",
    "        if(abs(m-n)<abs(m-n)):\n",
    "            print('warmer')\n",
    "        else:\n",
    "            print('colder')\n",
    "    else:\n",
    "        if abs(m-n)<10:\n",
    "            print('warm')\n",
    "        else:\n",
    "            print('cold')\n",
    "        \n",
    "  \n",
    "    "
   ]
  },
  {
   "cell_type": "code",
   "execution_count": null,
   "metadata": {},
   "outputs": [],
   "source": [
    "if m>1 or m<100:\n",
    "    if m==n:\n",
    "        print(\"guess is correct\")\n",
    "    elif abs(m-n)<10:\n",
    "        return warm\n",
    "    else:\n",
    "        return cold\n",
    "    else:\n",
    "    print(\"out of bounds\")\n",
    "\n",
    "    def warm():\n",
    "    print('')\n",
    "    def cold():\n",
    "    print()\n",
    "    -----------------\n",
    "      if abs(m-n)<10:\n",
    "         print('warm')\n",
    "         guesses+=1\n",
    "         #m=int(input('enter the number:'))\n",
    "         #break\n",
    "    else:\n",
    "         print('cold')\n",
    "         guesses+=1\n",
    "         #break\n",
    "else:\n",
    "    print(f'number found in {guesses} attempts is {m}')"
   ]
  },
  {
   "cell_type": "code",
   "execution_count": null,
   "metadata": {},
   "outputs": [],
   "source": [
    "list1=[1,2,3]"
   ]
  },
  {
   "cell_type": "code",
   "execution_count": null,
   "metadata": {},
   "outputs": [],
   "source": []
  },
  {
   "cell_type": "code",
   "execution_count": null,
   "metadata": {},
   "outputs": [],
   "source": [
    "list1[-2]"
   ]
  },
  {
   "cell_type": "code",
   "execution_count": null,
   "metadata": {},
   "outputs": [],
   "source": [
    "list1[1:]"
   ]
  },
  {
   "cell_type": "code",
   "execution_count": null,
   "metadata": {},
   "outputs": [],
   "source": []
  },
  {
   "cell_type": "code",
   "execution_count": null,
   "metadata": {},
   "outputs": [],
   "source": []
  }
 ],
 "metadata": {
  "kernelspec": {
   "display_name": "Python 3",
   "language": "python",
   "name": "python3"
  },
  "language_info": {
   "codemirror_mode": {
    "name": "ipython",
    "version": 3
   },
   "file_extension": ".py",
   "mimetype": "text/x-python",
   "name": "python",
   "nbconvert_exporter": "python",
   "pygments_lexer": "ipython3",
   "version": "3.8.5"
  }
 },
 "nbformat": 4,
 "nbformat_minor": 4
}
